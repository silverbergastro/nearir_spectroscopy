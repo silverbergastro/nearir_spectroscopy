{
 "cells": [
  {
   "cell_type": "code",
   "execution_count": 1,
   "metadata": {
    "collapsed": true
   },
   "outputs": [],
   "source": [
    "import numpy as np\n",
    "import matplotlib.pyplot as plt\n",
    "import winsound\n",
    "import time"
   ]
  },
  {
   "cell_type": "code",
   "execution_count": 2,
   "metadata": {
    "collapsed": true
   },
   "outputs": [],
   "source": [
    "def Mdot(M, t):\n",
    "    #input_masses = np.array([0.15,0.15,0.065,0.1,0.17,0.17,0.11,0.035,0.05,0.05,0.024,0.1,0.2,0.12,0.1,0.15])\n",
    "    #input_Mdots = np.array([1.2E-8,2.0E-9,9.0E-10,5.0E-10,4.4e-10,1.5e-10,5.3e-11,1.9e-11,9.2e-12,6.9e-12,2.3e-12,2.2e-11,5.8e-11,1.4e-11,6.2e-12,1.3e-10])\n",
    "    \n",
    "    #input_logtimes = np.array([6.,6.4,6.5,6.9,6.1,6.3,7.1,7.,6.6,6.5,7.,6.,6.1,6.,6.5,6.])\n",
    "    \n",
    "    #scaling_factor = np.array([(M/x) for x in input_masses])\n",
    "    \n",
    "    #fitting_Mdots = np.array([np.log10(input_Mdots[i] * ((scaling_factor[i])**(4.1))) for i in range(input_Mdots.size)])\n",
    "    \n",
    "    #x2 = input_logtimes**2\n",
    "    #xy = input_logtimes*fitting_Mdots\n",
    "    #y2 = fitting_Mdots**2\n",
    "    \n",
    "    #xbar = np.sum(input_logtimes)/16.\n",
    "    #ybar = np.sum(fitting_Mdots)/16.\n",
    "    \n",
    "    #x2bar = np.sum(x2)/16.\n",
    "    #xybar = np.sum(xy)/16.\n",
    "    #y2bar = np.sum(y2)/16.\n",
    "    \n",
    "    #r = (xybar - (xbar*ybar))/(((x2bar - (xbar**2))*(y2bar - (ybar**2)))**0.5)\n",
    "    \n",
    "    #beta = r*np.std(fitting_Mdots)/np.std(input_logtimes)\n",
    "    \n",
    "    #alpha = ybar - (beta*xbar)\n",
    "    \n",
    "    if t <= 0.:\n",
    "        return 0.0\n",
    "    \n",
    "    Mdot_unscaled = (10.**(-1.32)) * (t**(-1.07))\n",
    "    \n",
    "    #print 'logMdot_unscaled', logMdot_unscaled\n",
    "    #print alpha, beta\n",
    "    \n",
    "    #Mdot_unscaled = 10.**(logMdot_unscaled)\n",
    "    \n",
    "    #print 'Mdot_unscaled', Mdot_unscaled\n",
    "    \n",
    "    Mdotres = Mdot_unscaled * ((M/0.7)**2.1)\n",
    "    \n",
    "    #print 'Mdot', Mdotres\n",
    "    \n",
    "    return Mdotres\n",
    "\n",
    "def rk4(M_in, t_in, h):\n",
    "    t_out = t_in + h\n",
    "    \n",
    "    k1 = h * Mdot(M_in, t_in)\n",
    "    k2 = h * Mdot((M_in + (k1/2.)),(t_in+(h/2.)))\n",
    "    k3 = h * Mdot((M_in + (k2/2.)),(t_in+(h/2.)))\n",
    "    k4 = h * Mdot((M_in + k3),(t_in + h))\n",
    "    \n",
    "    #print k1, k2, k3, k4\n",
    "    \n",
    "    M_out = M_in + ((1./6.)*(k1 + (2.*k2) + (2.*k3) + k4))\n",
    "    \n",
    "    return M_out, t_out\n",
    "    "
   ]
  },
  {
   "cell_type": "code",
   "execution_count": 17,
   "metadata": {},
   "outputs": [
    {
     "name": "stdout",
     "output_type": "stream",
     "text": [
      "0.0 0.14222 0.0\n",
      "1000000.0 0.157313498099 7.91594360446e-10 -9.1014973085 7.35999822617e-06 0.540466658274\n",
      "2000000.0 0.157851012509 3.79761996319e-10 -9.4204884983 7.4849998951e-06 0.536424992482\n",
      "3000000.0 0.158155258196 2.47087063454e-10 -9.60714999202 7.05333312352e-06 0.493733318647\n",
      "4000000.0 0.158366669251 1.82130998734e-10 -9.7396161309 6.81249976158e-06 0.465520817041\n",
      "5000000.0 0.158528144322 1.4375388842e-10 -9.84238039918 6.6859998703e-06 0.445733324687\n",
      "6000000.0 0.15865847119 1.18480024392e-10 -9.92635486508 6.50499979655e-06 0.422933312257\n",
      "7000000.0 0.158767543417 1.0060946412e-10 -9.99736116419 6.32857118334e-06 0.400809508278\n",
      "8000000.0 0.158861204904 8.73223308298e-11 -10.0588746805 6.36999994516e-06 0.392816663285\n",
      "9000000.0 0.158943191758 7.70659761331e-11 -10.1131373164 6.28111097548e-06 0.376866658529\n",
      "10000000.0 0.159016035374 6.8915998162e-11 -10.1616799493 6.21099996567e-06 0.362308331331\n",
      "11000000.0 0.159081529021 6.228814992e-11 -10.2055945683 6.17363626307e-06 0.34983938824\n",
      "12000000.0 0.159140988711 5.67953122723e-11 -10.2456875083 6.14833315214e-06 0.338158323367\n",
      "13000000.0 0.159195408307 5.21709634594e-11 -10.2825711429 6.09692298449e-06 0.325169225839\n",
      "14000000.0 0.159245556442 4.82256950356e-11 -10.3167215045 6.06357131686e-06 0.313284518038\n",
      "15000000.0 0.159292039592 4.48212559836e-11 -10.3485159778 6.01066652934e-06 0.300533326467\n",
      "16000000.0 0.159335344548 4.1854407135e-11 -10.3782588054 6.00874990225e-06 0.290422911942\n",
      "17000000.0 0.159375867866 3.92465198172e-11 -10.4061988482 5.97058815115e-06 0.278627447053\n",
      "18000000.0 0.159413936791 3.69366699014e-11 -10.4325422618 5.94999988874e-06 0.267749994993\n",
      "19000000.0 0.159449824469 3.4876930705e-11 -10.4574617415 5.93473672867e-06 0.257171924909\n",
      "20000000.0 0.159483761204 3.30290898352e-11 -10.4811033938 5.93099999428e-06 0.247124999762\n",
      "21000000.0 0.159515942941 3.13623120058e-11 -10.5035919289 5.90476183664e-06 0.236190473466\n",
      "22000000.0 0.15954653775 2.9851444705e-11 -10.5250346457 5.88545452465e-06 0.225609090111\n",
      "23000000.0 0.159575690856 2.84757696667e-11 -10.5455245286 5.88521729345e-06 0.215807245434\n",
      "24000000.0 0.159603528583 2.721806918e-11 -10.5651426864 5.87291657925e-06 0.205552080274\n",
      "25000000.0 0.159630161486 2.60639184403e-11 -10.583960292 5.85559997559e-06 0.195186665853\n",
      "26000000.0 0.159655686858 2.50011426402e-11 -10.6020401421 5.84884606875e-06 0.185225640352\n",
      "27000000.0 0.159680190764 2.40193957717e-11 -10.6194379218 5.8411110772e-06 0.175233332316\n",
      "28000000.0 0.159703749696 2.31098304886e-11 -10.6362032401 5.83285706384e-06 0.165264283475\n",
      "29000000.0 0.159726431938 2.22648368824e-11 -10.6523804823 5.8375861727e-06 0.155678159341\n",
      "30000000.0 0.159748298691 2.14778339723e-11 -10.6680095191 5.81566659609e-06 0.145399999619\n",
      "31000000.0 0.159769405021 2.07431019154e-11 -10.6831262989 5.81483864015e-06 0.13567956827\n",
      "32000000.0 0.159789800647 2.00556459621e-11 -10.6977633455 5.80937497318e-06 0.125869791086\n",
      "33000000.0 0.159809530606 1.94110853722e-11 -10.7119501803 5.81999995492e-06 0.116399999098\n",
      "34000000.0 0.159828635825 1.88055621121e-11 -10.7257136807 5.81735288396e-06 0.106651469539\n",
      "35000000.0 0.159847153601 1.82356653471e-11 -10.7390783864 5.8185714313e-06 0.0969761905216\n",
      "36000000.0 0.159865118019 1.76983686343e-11 -10.7520667633 5.81305550204e-06 0.0871958325307\n",
      "37000000.0 0.159882560304 1.71909773936e-11 -10.7646994308 5.82810807872e-06 0.0777081077163\n",
      "38000000.0 0.159899509137 1.67110847497e-11 -10.7769953583 5.8236841779e-06 0.0679429820755\n",
      "39000000.0 0.159915990918 1.62565342302e-11 -10.7889720372 5.82102561608e-06 0.0582128200776\n",
      "40000000.0 0.159932030005 1.58253881111e-11 -10.8006456303 5.81949996948e-06 0.048495833079\n",
      "41000000.0 0.159947648912 1.54159004377e-11 -10.8120311032 5.83634143922e-06 0.0389089429282\n",
      "42000000.0 0.159962868497 1.50264939355e-11 -10.8231423396 5.82880951109e-06 0.0291440475555\n",
      "43000000.0 0.159977708116 1.4655740173e-11 -10.8339922431 5.81999994988e-06 0.0193999998329\n",
      "44000000.0 0.159992185762 1.43023424549e-11 -10.8445928274 5.81704540686e-06 0.0096950756781\n",
      "45000000.0 0.160006318192 1.39651210175e-11 -10.8549552965 5.80888885922e-06 0.0\n",
      "Mass accreted 0.0177863181919 solar masses\n",
      "0.111160099132\n"
     ]
    },
    {
     "data": {
      "image/png": "[encoded data removed]",
      "text/plain": [
       "<matplotlib.figure.Figure at 0x827def0>"
      ]
     },
     "metadata": {},
     "output_type": "display_data"
    },
    {
     "data": {
      "image/png": "[encoded data removed]",
      "text/plain": [
       "<matplotlib.figure.Figure at 0x71b1160>"
      ]
     },
     "metadata": {},
     "output_type": "display_data"
    }
   ],
   "source": [
    "M0 = 0.14222\n",
    "t0 = 0.\n",
    "\n",
    "Mvec = [M0]\n",
    "tvec = [t0]\n",
    "Mdotvec = [Mdot(M0, t0)]\n",
    "\n",
    "Mplotvec = [M0]\n",
    "tplotvec = [t0]\n",
    "Mdotplotvec = [Mdot(M0, t0)]\n",
    "\n",
    "print t0, M0, Mdotvec[0]\n",
    "\n",
    "tstart = time.time()\n",
    "\n",
    "while tvec[-1] < 45000000.:\n",
    "    Mret, tret = rk4(Mvec[-1],tvec[-1],10.)\n",
    "    Mvec.append(Mret)\n",
    "    Mdotvec.append(Mdot(Mret, tret))\n",
    "    #if (((len(tvec)-1)%1000000) < 1) or ((len(tvec) - 1) < 1000000.):\n",
    "    if ((tret%1000000) < 1):\n",
    "        print tret, Mret, Mdotvec[-1], np.log10(Mdotvec[-1]), (time.time() - tstart)/float(len(tvec)), ((4500000.-float(len(tvec)))*(time.time() - tstart)/float(len(tvec)))/60.\n",
    "        tplotvec.append(tret)\n",
    "        Mplotvec.append(Mret)\n",
    "        Mdotplotvec.append(Mdot(Mret, tret))\n",
    "    tvec.append(tret)\n",
    "\n",
    "print 'Mass accreted', (Mvec[-1] - M0), 'solar masses'\n",
    "print (Mvec[-1] - M0)/Mvec[-1]\n",
    "    \n",
    "plt.figure()\n",
    "plt.plot(tplotvec, Mplotvec)\n",
    "plt.show()\n",
    "\n",
    "plt.figure()\n",
    "plt.plot(tplotvec, Mdotplotvec)\n",
    "plt.show()"
   ]
  }
 ],
 "metadata": {
  "kernelspec": {
   "display_name": "Python 2",
   "language": "python",
   "name": "python2"
  },
  "language_info": {
   "codemirror_mode": {
    "name": "ipython",
    "version": 2
   },
   "file_extension": ".py",
   "mimetype": "text/x-python",
   "name": "python",
   "nbconvert_exporter": "python",
   "pygments_lexer": "ipython2",
   "version": "2.7.14"
  }
 },
 "nbformat": 4,
 "nbformat_minor": 2
}
